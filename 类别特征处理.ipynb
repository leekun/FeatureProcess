{
 "cells": [
  {
   "cell_type": "markdown",
   "metadata": {},
   "source": [
    "**类别特征处理 ** "
   ]
  },
  {
   "cell_type": "markdown",
   "metadata": {},
   "source": [
    "# one-hot\n",
    "    当类别类别数据不多时，可以这样处理。如性别等。"
   ]
  },
  {
   "cell_type": "markdown",
   "metadata": {},
   "source": [
    "# 根据业务来处理\n",
    "    如：城市变量进行one-hot会衍生出几百个变量，特征稀疏，而且当数据量较小时，效果不一定好。\n",
    "    在风控领域，可以统计所有城市的逾期率，直接将逾期率替代城市变量；也可以用woe等来替换\n"
   ]
  },
  {
   "cell_type": "markdown",
   "metadata": {},
   "source": [
    "# embedding\n",
    "   构造embedding层，然后和其他变量一起，放入到神经网络中，进行训练，同时也会训练这个embedding层。\n",
    "   \n",
    "   参考：https://towardsdatascience.com/structured-deep-learning-b8ca4138b848\n",
    "   \n",
    "   中文：http://bigdata.51cto.com/art/201712/560186.htm\n",
    "   \n",
    "   其在kaggle比赛中有较好的表现。论文：https://arxiv.org/abs/1604.06737\n",
    "   Entity Embeddings of Categorical Variables\n",
    "   \n",
    "   \n",
    "** 具体的：**( 以只有一个类别变量为例子，如城市）\n",
    "   \n",
    "    0.类别变量one-hot编码（维度：1*m)\n",
    "    1.初始化一个随机的嵌入矩阵 mxD：\n",
    "        m：类别变量的个数(如：星期一、星期二。。: m=7)\n",
    "        D：embedding后的维度(这是一个可以取值 1 到 m-1 的超参数)\n",
    "    2.对于神经网络中的每一次前向通过：one-hot编码后的类别变量通过embedding层后，得到一个 1xD 的向量。\n",
    "    3.将这个 1×D 的向量和我们的其他数值特征向量concat到一起。其中我们为每一个类别都增加一个嵌入向量，这是通过为每一特定行执行查找而得到的。\n",
    "        concat后一个样本维度：[数值向量，1×D]\n",
    "    4.反向传播：我们也以梯度的方式来更新embedding层，以最小化我们的损失函数。\n",
    "\n",
    "\n",
    "\n",
    "** 注意：** \n",
    "\n",
    "    类别变量个数m 较多时，embedding的参数也会较大，需要较多的数据才可能有较好的效果。\n",
    "   \n",
    "    如：有500个城市，embedding后20维，那么embedding矩阵大小为500*20=10000个参数。"
   ]
  },
  {
   "cell_type": "markdown",
   "metadata": {},
   "source": [
    "## 另类的实体embedding\n",
    "\n",
    "参考：https://blog.insightdatascience.com/entity2vec-dad368c5b830\n",
    "\n",
    "论文：https://arxiv.org/abs/1709.03856 \n",
    "StarSpace: Embed All The Things!\n",
    "\n",
    "比如想将[马云,李彦宏,马化腾,雷军等100个企业家] 做embedding：\n",
    "\n",
    "0，随机取一个企业家，如马云\n",
    "\n",
    "1，获得网上描述 马云 的文字，word2vec均值后，得到\"描述向量\"\n",
    "\n",
    "2，取马云的embedding向量和随机取5个企业家的embedding向量， concat起来【描述向量， embedding向量*6】\n",
    "\n",
    "3，训练一个模型，输入X为上面的向量， Y标签为”马云“\n",
    "\n",
    "\n",
    "思路和Paragraph Vector【Distributed Representations of Sentences and Documents.pdf】相似但不同。"
   ]
  },
  {
   "cell_type": "markdown",
   "metadata": {
    "ExecuteTime": {
     "end_time": "2018-06-26T06:24:56.166468Z",
     "start_time": "2018-06-26T06:24:56.161697Z"
    }
   },
   "source": [
    "# item2vec\n",
    "    \n",
    "item2vec论文：https://arxiv.org/abs/1603.04259 \n",
    "Item2Vec: Neural Item Embedding for Collaborative Filtering\n",
    "    \n",
    "** 音乐推荐：** \n",
    "    \n",
    "    https://towardsdatascience.com/using-word2vec-for-music-recommendations-bb9649ac2484  \n",
    "    将一个人听过的所有歌曲作为一个“sentence\",每首歌作为一个词。用word2vec的技术可以同样对每首歌进行embedding\n",
    "    \n",
    "** 电影推荐：** \n",
    "    \n",
    "    http://lujiaying.github.io/2017/08/15/MovieTaster-%E4%BD%BF%E7%94%A8Item2Vec%E5%81%9A%E7%94%B5%E5%BD%B1%E6%8E%A8%E8%8D%90/\n",
    "    实现代码：https://github.com/lujiaying/MovieTaster-Open\n",
    "\n",
    "\n",
    "** 适用场景 **：\n",
    "       \n",
    "    二分图关系的特征：一个用户可能会听多首歌，一首歌也会被多个用户听。\n",
    "            \n",
    "    对于风控领域中城市变量，就不能用这个方式来embedding了。"
   ]
  },
  {
   "cell_type": "code",
   "execution_count": null,
   "metadata": {
    "collapsed": true
   },
   "outputs": [],
   "source": [
    "# "
   ]
  }
 ],
 "metadata": {
  "kernelspec": {
   "display_name": "Python 3",
   "language": "python",
   "name": "python3"
  },
  "language_info": {
   "codemirror_mode": {
    "name": "ipython",
    "version": 3
   },
   "file_extension": ".py",
   "mimetype": "text/x-python",
   "name": "python",
   "nbconvert_exporter": "python",
   "pygments_lexer": "ipython3",
   "version": "3.6.3"
  },
  "toc": {
   "nav_menu": {},
   "number_sections": true,
   "sideBar": true,
   "skip_h1_title": false,
   "toc_cell": false,
   "toc_position": {},
   "toc_section_display": "block",
   "toc_window_display": false
  }
 },
 "nbformat": 4,
 "nbformat_minor": 2
}
